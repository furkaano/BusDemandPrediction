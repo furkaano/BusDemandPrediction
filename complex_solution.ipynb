{
 "cells": [
  {
   "cell_type": "markdown",
   "id": "5e60e798",
   "metadata": {},
   "source": [
    "#### COMPLEX SOLUTON (SARIMAX)"
   ]
  },
  {
   "cell_type": "markdown",
   "id": "7f5b8d21",
   "metadata": {},
   "source": [
    "The SARIMAX model with exogenous variables that I used for this task can be considered a complex method, as it takes into account both the time series data and the external variables (i.e., day of the week)."
   ]
  },
  {
   "cell_type": "code",
   "execution_count": null,
   "id": "8b254291",
   "metadata": {},
   "outputs": [],
   "source": [
    "# To install required modules for running the program\n",
    "pip install -r requirements.txt"
   ]
  },
  {
   "cell_type": "markdown",
   "id": "bf21f3b2",
   "metadata": {},
   "source": [
    "Firstly, I imported the necessary libraries"
   ]
  },
  {
   "cell_type": "code",
   "execution_count": 1,
   "id": "fb81013c",
   "metadata": {},
   "outputs": [],
   "source": [
    "import pandas as pd\n",
    "from statsmodels.tsa.statespace.sarimax import SARIMAX\n",
    "from statsmodels.graphics.tsaplots import plot_acf, plot_pacf\n",
    "import matplotlib.pyplot as plt"
   ]
  },
  {
   "cell_type": "code",
   "execution_count": 2,
   "id": "ce5c61ce",
   "metadata": {},
   "outputs": [
    {
     "data": {
      "text/html": [
       "<div>\n",
       "<style scoped>\n",
       "    .dataframe tbody tr th:only-of-type {\n",
       "        vertical-align: middle;\n",
       "    }\n",
       "\n",
       "    .dataframe tbody tr th {\n",
       "        vertical-align: top;\n",
       "    }\n",
       "\n",
       "    .dataframe thead th {\n",
       "        text-align: right;\n",
       "    }\n",
       "</style>\n",
       "<table border=\"1\" class=\"dataframe\">\n",
       "  <thead>\n",
       "    <tr style=\"text-align: right;\">\n",
       "      <th></th>\n",
       "      <th>municipality_id</th>\n",
       "      <th>usage</th>\n",
       "      <th>total_capacity</th>\n",
       "    </tr>\n",
       "    <tr>\n",
       "      <th>timestamp</th>\n",
       "      <th></th>\n",
       "      <th></th>\n",
       "      <th></th>\n",
       "    </tr>\n",
       "  </thead>\n",
       "  <tbody>\n",
       "    <tr>\n",
       "      <th>2017-06-04 07:59:42</th>\n",
       "      <td>9</td>\n",
       "      <td>454</td>\n",
       "      <td>1332</td>\n",
       "    </tr>\n",
       "    <tr>\n",
       "      <th>2017-06-04 07:59:42</th>\n",
       "      <td>8</td>\n",
       "      <td>556</td>\n",
       "      <td>2947</td>\n",
       "    </tr>\n",
       "    <tr>\n",
       "      <th>2017-06-04 07:59:42</th>\n",
       "      <td>4</td>\n",
       "      <td>1090</td>\n",
       "      <td>3893</td>\n",
       "    </tr>\n",
       "    <tr>\n",
       "      <th>2017-06-04 07:59:42</th>\n",
       "      <td>0</td>\n",
       "      <td>204</td>\n",
       "      <td>2813</td>\n",
       "    </tr>\n",
       "    <tr>\n",
       "      <th>2017-06-04 07:59:42</th>\n",
       "      <td>7</td>\n",
       "      <td>718</td>\n",
       "      <td>2019</td>\n",
       "    </tr>\n",
       "    <tr>\n",
       "      <th>...</th>\n",
       "      <td>...</td>\n",
       "      <td>...</td>\n",
       "      <td>...</td>\n",
       "    </tr>\n",
       "    <tr>\n",
       "      <th>2017-08-19 16:30:35</th>\n",
       "      <td>2</td>\n",
       "      <td>548</td>\n",
       "      <td>697</td>\n",
       "    </tr>\n",
       "    <tr>\n",
       "      <th>2017-08-19 16:30:35</th>\n",
       "      <td>8</td>\n",
       "      <td>1193</td>\n",
       "      <td>2947</td>\n",
       "    </tr>\n",
       "    <tr>\n",
       "      <th>2017-08-19 16:30:35</th>\n",
       "      <td>7</td>\n",
       "      <td>1354</td>\n",
       "      <td>2019</td>\n",
       "    </tr>\n",
       "    <tr>\n",
       "      <th>2017-08-19 16:30:35</th>\n",
       "      <td>6</td>\n",
       "      <td>1680</td>\n",
       "      <td>3113</td>\n",
       "    </tr>\n",
       "    <tr>\n",
       "      <th>2017-08-19 16:30:35</th>\n",
       "      <td>3</td>\n",
       "      <td>1189</td>\n",
       "      <td>1930</td>\n",
       "    </tr>\n",
       "  </tbody>\n",
       "</table>\n",
       "<p>13070 rows × 3 columns</p>\n",
       "</div>"
      ],
      "text/plain": [
       "                     municipality_id  usage  total_capacity\n",
       "timestamp                                                  \n",
       "2017-06-04 07:59:42                9    454            1332\n",
       "2017-06-04 07:59:42                8    556            2947\n",
       "2017-06-04 07:59:42                4   1090            3893\n",
       "2017-06-04 07:59:42                0    204            2813\n",
       "2017-06-04 07:59:42                7    718            2019\n",
       "...                              ...    ...             ...\n",
       "2017-08-19 16:30:35                2    548             697\n",
       "2017-08-19 16:30:35                8   1193            2947\n",
       "2017-08-19 16:30:35                7   1354            2019\n",
       "2017-08-19 16:30:35                6   1680            3113\n",
       "2017-08-19 16:30:35                3   1189            1930\n",
       "\n",
       "[13070 rows x 3 columns]"
      ]
     },
     "execution_count": 2,
     "metadata": {},
     "output_type": "execute_result"
    }
   ],
   "source": [
    "# Loading the data\n",
    "df = pd.read_csv('municipality_bus_utilization.csv', parse_dates=['timestamp'], index_col='timestamp')\n",
    "df"
   ]
  },
  {
   "cell_type": "code",
   "execution_count": 3,
   "id": "b4795488",
   "metadata": {},
   "outputs": [
    {
     "data": {
      "text/html": [
       "<div>\n",
       "<style scoped>\n",
       "    .dataframe tbody tr th:only-of-type {\n",
       "        vertical-align: middle;\n",
       "    }\n",
       "\n",
       "    .dataframe tbody tr th {\n",
       "        vertical-align: top;\n",
       "    }\n",
       "\n",
       "    .dataframe thead th {\n",
       "        text-align: right;\n",
       "    }\n",
       "</style>\n",
       "<table border=\"1\" class=\"dataframe\">\n",
       "  <thead>\n",
       "    <tr style=\"text-align: right;\">\n",
       "      <th></th>\n",
       "      <th>municipality_id</th>\n",
       "      <th>usage</th>\n",
       "      <th>total_capacity</th>\n",
       "    </tr>\n",
       "    <tr>\n",
       "      <th>timestamp</th>\n",
       "      <th></th>\n",
       "      <th></th>\n",
       "      <th></th>\n",
       "    </tr>\n",
       "  </thead>\n",
       "  <tbody>\n",
       "    <tr>\n",
       "      <th>2017-06-04 07:00:00</th>\n",
       "      <td>9.0</td>\n",
       "      <td>1090.0</td>\n",
       "      <td>3893.0</td>\n",
       "    </tr>\n",
       "    <tr>\n",
       "      <th>2017-06-04 08:00:00</th>\n",
       "      <td>9.0</td>\n",
       "      <td>2016.0</td>\n",
       "      <td>3893.0</td>\n",
       "    </tr>\n",
       "    <tr>\n",
       "      <th>2017-06-04 09:00:00</th>\n",
       "      <td>9.0</td>\n",
       "      <td>2811.0</td>\n",
       "      <td>3893.0</td>\n",
       "    </tr>\n",
       "    <tr>\n",
       "      <th>2017-06-04 10:00:00</th>\n",
       "      <td>9.0</td>\n",
       "      <td>3178.0</td>\n",
       "      <td>3893.0</td>\n",
       "    </tr>\n",
       "    <tr>\n",
       "      <th>2017-06-04 11:00:00</th>\n",
       "      <td>9.0</td>\n",
       "      <td>3257.0</td>\n",
       "      <td>3893.0</td>\n",
       "    </tr>\n",
       "    <tr>\n",
       "      <th>...</th>\n",
       "      <td>...</td>\n",
       "      <td>...</td>\n",
       "      <td>...</td>\n",
       "    </tr>\n",
       "    <tr>\n",
       "      <th>2017-08-19 12:00:00</th>\n",
       "      <td>9.0</td>\n",
       "      <td>3157.0</td>\n",
       "      <td>3893.0</td>\n",
       "    </tr>\n",
       "    <tr>\n",
       "      <th>2017-08-19 13:00:00</th>\n",
       "      <td>9.0</td>\n",
       "      <td>3194.0</td>\n",
       "      <td>3893.0</td>\n",
       "    </tr>\n",
       "    <tr>\n",
       "      <th>2017-08-19 14:00:00</th>\n",
       "      <td>9.0</td>\n",
       "      <td>3183.0</td>\n",
       "      <td>3893.0</td>\n",
       "    </tr>\n",
       "    <tr>\n",
       "      <th>2017-08-19 15:00:00</th>\n",
       "      <td>9.0</td>\n",
       "      <td>3111.0</td>\n",
       "      <td>3893.0</td>\n",
       "    </tr>\n",
       "    <tr>\n",
       "      <th>2017-08-19 16:00:00</th>\n",
       "      <td>9.0</td>\n",
       "      <td>2779.0</td>\n",
       "      <td>3893.0</td>\n",
       "    </tr>\n",
       "  </tbody>\n",
       "</table>\n",
       "<p>1834 rows × 3 columns</p>\n",
       "</div>"
      ],
      "text/plain": [
       "                     municipality_id   usage  total_capacity\n",
       "timestamp                                                   \n",
       "2017-06-04 07:00:00              9.0  1090.0          3893.0\n",
       "2017-06-04 08:00:00              9.0  2016.0          3893.0\n",
       "2017-06-04 09:00:00              9.0  2811.0          3893.0\n",
       "2017-06-04 10:00:00              9.0  3178.0          3893.0\n",
       "2017-06-04 11:00:00              9.0  3257.0          3893.0\n",
       "...                              ...     ...             ...\n",
       "2017-08-19 12:00:00              9.0  3157.0          3893.0\n",
       "2017-08-19 13:00:00              9.0  3194.0          3893.0\n",
       "2017-08-19 14:00:00              9.0  3183.0          3893.0\n",
       "2017-08-19 15:00:00              9.0  3111.0          3893.0\n",
       "2017-08-19 16:00:00              9.0  2779.0          3893.0\n",
       "\n",
       "[1834 rows x 3 columns]"
      ]
     },
     "execution_count": 3,
     "metadata": {},
     "output_type": "execute_result"
    }
   ],
   "source": [
    "# Resample the data to hourly frequency and get the maximum usage in each hour\n",
    "df_hourly = df.resample('H').max()\n",
    "df_hourly"
   ]
  },
  {
   "cell_type": "markdown",
   "id": "f26fd1b9",
   "metadata": {},
   "source": [
    "I have filled the missing values with linear interpolation if there is any value"
   ]
  },
  {
   "cell_type": "code",
   "execution_count": 4,
   "id": "3cb4f4b3",
   "metadata": {},
   "outputs": [],
   "source": [
    "# Fill missing values with linear interpolation\n",
    "df_hourly.interpolate(method='linear', inplace=True)"
   ]
  },
  {
   "cell_type": "markdown",
   "id": "e730fbfe",
   "metadata": {},
   "source": [
    "I splitted the data from 168 because which is equivalent to one week (24 hours x 7 days = 168 hours)"
   ]
  },
  {
   "cell_type": "code",
   "execution_count": 5,
   "id": "dfdea250",
   "metadata": {},
   "outputs": [],
   "source": [
    "# Train-test split\n",
    "train = df_hourly.iloc[:-168]\n",
    "test = df_hourly.iloc[-168:]"
   ]
  },
  {
   "cell_type": "markdown",
   "id": "7252666e",
   "metadata": {},
   "source": [
    "Building a model of **SARIMAX**"
   ]
  },
  {
   "cell_type": "code",
   "execution_count": 6,
   "id": "b5b53e30",
   "metadata": {},
   "outputs": [],
   "source": [
    "# Fit a SARIMAX model\n",
    "model = SARIMAX(train['usage'], order=(1, 1, 1), seasonal_order=(1, 1, 1, 24))\n",
    "result = model.fit()"
   ]
  },
  {
   "cell_type": "code",
   "execution_count": 7,
   "id": "86699c44",
   "metadata": {},
   "outputs": [],
   "source": [
    "# Forecast for the next week\n",
    "forecast = result.forecast(steps=168)"
   ]
  },
  {
   "cell_type": "markdown",
   "id": "4c90fc96",
   "metadata": {},
   "source": [
    "##### VISUALIZATION"
   ]
  },
  {
   "cell_type": "code",
   "execution_count": 8,
   "id": "b79486e0",
   "metadata": {},
   "outputs": [
    {
     "data": {
      "image/png": "[encoded data removed]",
      "text/plain": [
       "<Figure size 864x432 with 1 Axes>"
      ]
     },
     "metadata": {
      "needs_background": "light"
     },
     "output_type": "display_data"
    }
   ],
   "source": [
    "# Plot the forecast and the actual values\n",
    "fig, ax = plt.subplots(figsize=(12, 6))\n",
    "ax.plot(train.index[-672:], train['usage'].tail(672), label='Train')\n",
    "ax.plot(test.index[:24], test['usage'].head(24), label='Test')\n",
    "ax.plot(test.index[:24], forecast[:24], label='Forecast')\n",
    "ax.legend()\n",
    "ax.set_title('Bus Demand Forecast (SARIMAX)')\n",
    "ax.set_xlabel('Date')\n",
    "ax.set_ylabel('Bus Demand')\n",
    "plt.show()"
   ]
  }
 ],
 "metadata": {
  "kernelspec": {
   "display_name": "Python 3 (ipykernel)",
   "language": "python",
   "name": "python3"
  },
  "language_info": {
   "codemirror_mode": {
    "name": "ipython",
    "version": 3
   },
   "file_extension": ".py",
   "mimetype": "text/x-python",
   "name": "python",
   "nbconvert_exporter": "python",
   "pygments_lexer": "ipython3",
   "version": "3.9.5"
  }
 },
 "nbformat": 4,
 "nbformat_minor": 5
}
