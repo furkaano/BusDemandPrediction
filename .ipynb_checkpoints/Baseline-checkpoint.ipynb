{
 "cells": [
  {
   "cell_type": "markdown",
   "id": "c1207832",
   "metadata": {},
   "source": [
    "#### BASELINE SOLUTION"
   ]
  },
  {
   "cell_type": "markdown",
   "id": "eb2062f3",
   "metadata": {},
   "source": [
    "A simple baseline method could be a naive method, where the forecast for the next week would be simply equal to the usage of the previous week."
   ]
  },
  {
   "cell_type": "markdown",
   "id": "6cf3d094",
   "metadata": {},
   "source": [
    "First, I'll load the data and preprocess it to get the hourly bus usages for each municipality, by aggregating the two measurements for an hour and taking the maximum value:"
   ]
  },
  {
   "cell_type": "code",
   "execution_count": 1,
   "id": "2b0999ee",
   "metadata": {},
   "outputs": [],
   "source": [
    "import pandas as pd\n",
    "\n",
    "# Load the data\n",
    "df = pd.read_csv(\"municipality_bus_utilization.csv\", parse_dates=[\"timestamp\"])\n",
    "\n",
    "# Aggregate the two measurements for an hour and take the max value\n",
    "df_hourly = df.groupby([\"municipality_id\", pd.Grouper(key=\"timestamp\", freq=\"H\")])[\"usage\"].max().reset_index()\n",
    "df_hourly.set_index(\"timestamp\", inplace=True)"
   ]
  },
  {
   "cell_type": "markdown",
   "id": "a2c5384c",
   "metadata": {},
   "source": [
    "Next, I'll split the data into training and test sets, where the last two weeks (i.e., the last 336 hours) will be used as the test set:"
   ]
  },
  {
   "cell_type": "code",
   "execution_count": 2,
   "id": "ad297e08",
   "metadata": {},
   "outputs": [],
   "source": [
    "# Split the data into training and test sets\n",
    "train = df_hourly.iloc[:-336]\n",
    "test = df_hourly.iloc[-336:]"
   ]
  },
  {
   "cell_type": "markdown",
   "id": "cf60b0a4",
   "metadata": {},
   "source": [
    "Now, I can make our forecast using the simple baseline method, which is to simply use the previous week's usage as the forecast for the next week:"
   ]
  },
  {
   "cell_type": "code",
   "execution_count": 3,
   "id": "5b843401",
   "metadata": {},
   "outputs": [],
   "source": [
    "# Make the forecast using the previous week's usage\n",
    "forecast = test.shift(168)"
   ]
  },
  {
   "cell_type": "markdown",
   "id": "8ca77222",
   "metadata": {},
   "source": [
    "Finally, I can calculate the error between the forecast and the true values for the test set:"
   ]
  },
  {
   "cell_type": "code",
   "execution_count": 4,
   "id": "88b3dca6",
   "metadata": {},
   "outputs": [
    {
     "name": "stdout",
     "output_type": "stream",
     "text": [
      "RMSE: municipality_id      0.000000\n",
      "usage              221.268031\n",
      "dtype: float64\n"
     ]
    }
   ],
   "source": [
    "# Calculate the error between the forecast and the true values\n",
    "error = (forecast - test)**2\n",
    "rmse = error.mean()**0.5\n",
    "\n",
    "print(\"RMSE:\", rmse)"
   ]
  },
  {
   "cell_type": "markdown",
   "id": "771ef1f1",
   "metadata": {},
   "source": [
    "This will display the root mean squared error (RMSE), which is a gauge of how well our forecast performs, between the forecast and the test set's true values."
   ]
  }
 ],
 "metadata": {
  "kernelspec": {
   "display_name": "Python 3 (ipykernel)",
   "language": "python",
   "name": "python3"
  },
  "language_info": {
   "codemirror_mode": {
    "name": "ipython",
    "version": 3
   },
   "file_extension": ".py",
   "mimetype": "text/x-python",
   "name": "python",
   "nbconvert_exporter": "python",
   "pygments_lexer": "ipython3",
   "version": "3.9.5"
  }
 },
 "nbformat": 4,
 "nbformat_minor": 5
}
