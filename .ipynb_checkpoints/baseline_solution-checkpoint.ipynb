{
 "cells": [
  {
   "cell_type": "markdown",
   "id": "c1207832",
   "metadata": {},
   "source": [
    "#### BASELINE SOLUTION"
   ]
  },
  {
   "cell_type": "markdown",
   "id": "eb2062f3",
   "metadata": {},
   "source": [
    "A simple baseline method could be a naive method, where the forecast for the next week would be simply equal to the usage of the previous week."
   ]
  },
  {
   "cell_type": "code",
   "execution_count": null,
   "id": "37ae346c",
   "metadata": {},
   "outputs": [],
   "source": [
    "# To install required modules for running the program\n",
    "pip install -r requirements.txt"
   ]
  },
  {
   "cell_type": "markdown",
   "id": "6cf3d094",
   "metadata": {},
   "source": [
    "First, I'll load the data and preprocess it to get the hourly bus usages for each municipality, by aggregating the two measurements for an hour and taking the maximum value:"
   ]
  },
  {
   "cell_type": "code",
   "execution_count": 1,
   "id": "2b0999ee",
   "metadata": {},
   "outputs": [
    {
     "data": {
      "text/html": [
       "<div>\n",
       "<style scoped>\n",
       "    .dataframe tbody tr th:only-of-type {\n",
       "        vertical-align: middle;\n",
       "    }\n",
       "\n",
       "    .dataframe tbody tr th {\n",
       "        vertical-align: top;\n",
       "    }\n",
       "\n",
       "    .dataframe thead th {\n",
       "        text-align: right;\n",
       "    }\n",
       "</style>\n",
       "<table border=\"1\" class=\"dataframe\">\n",
       "  <thead>\n",
       "    <tr style=\"text-align: right;\">\n",
       "      <th></th>\n",
       "      <th>municipality_id</th>\n",
       "      <th>timestamp</th>\n",
       "      <th>usage</th>\n",
       "      <th>total_capacity</th>\n",
       "    </tr>\n",
       "  </thead>\n",
       "  <tbody>\n",
       "    <tr>\n",
       "      <th>0</th>\n",
       "      <td>0</td>\n",
       "      <td>2017-06-04 07:00:00</td>\n",
       "      <td>204</td>\n",
       "      <td>2813</td>\n",
       "    </tr>\n",
       "    <tr>\n",
       "      <th>1</th>\n",
       "      <td>0</td>\n",
       "      <td>2017-06-04 08:00:00</td>\n",
       "      <td>332</td>\n",
       "      <td>2813</td>\n",
       "    </tr>\n",
       "    <tr>\n",
       "      <th>2</th>\n",
       "      <td>0</td>\n",
       "      <td>2017-06-04 09:00:00</td>\n",
       "      <td>485</td>\n",
       "      <td>2813</td>\n",
       "    </tr>\n",
       "    <tr>\n",
       "      <th>3</th>\n",
       "      <td>0</td>\n",
       "      <td>2017-06-04 10:00:00</td>\n",
       "      <td>583</td>\n",
       "      <td>2813</td>\n",
       "    </tr>\n",
       "    <tr>\n",
       "      <th>4</th>\n",
       "      <td>0</td>\n",
       "      <td>2017-06-04 11:00:00</td>\n",
       "      <td>614</td>\n",
       "      <td>2813</td>\n",
       "    </tr>\n",
       "    <tr>\n",
       "      <th>...</th>\n",
       "      <td>...</td>\n",
       "      <td>...</td>\n",
       "      <td>...</td>\n",
       "      <td>...</td>\n",
       "    </tr>\n",
       "    <tr>\n",
       "      <th>6735</th>\n",
       "      <td>9</td>\n",
       "      <td>2017-08-19 12:00:00</td>\n",
       "      <td>849</td>\n",
       "      <td>1332</td>\n",
       "    </tr>\n",
       "    <tr>\n",
       "      <th>6736</th>\n",
       "      <td>9</td>\n",
       "      <td>2017-08-19 13:00:00</td>\n",
       "      <td>941</td>\n",
       "      <td>1332</td>\n",
       "    </tr>\n",
       "    <tr>\n",
       "      <th>6737</th>\n",
       "      <td>9</td>\n",
       "      <td>2017-08-19 14:00:00</td>\n",
       "      <td>983</td>\n",
       "      <td>1332</td>\n",
       "    </tr>\n",
       "    <tr>\n",
       "      <th>6738</th>\n",
       "      <td>9</td>\n",
       "      <td>2017-08-19 15:00:00</td>\n",
       "      <td>976</td>\n",
       "      <td>1332</td>\n",
       "    </tr>\n",
       "    <tr>\n",
       "      <th>6739</th>\n",
       "      <td>9</td>\n",
       "      <td>2017-08-19 16:00:00</td>\n",
       "      <td>879</td>\n",
       "      <td>1332</td>\n",
       "    </tr>\n",
       "  </tbody>\n",
       "</table>\n",
       "<p>6740 rows × 4 columns</p>\n",
       "</div>"
      ],
      "text/plain": [
       "      municipality_id           timestamp  usage  total_capacity\n",
       "0                   0 2017-06-04 07:00:00    204            2813\n",
       "1                   0 2017-06-04 08:00:00    332            2813\n",
       "2                   0 2017-06-04 09:00:00    485            2813\n",
       "3                   0 2017-06-04 10:00:00    583            2813\n",
       "4                   0 2017-06-04 11:00:00    614            2813\n",
       "...               ...                 ...    ...             ...\n",
       "6735                9 2017-08-19 12:00:00    849            1332\n",
       "6736                9 2017-08-19 13:00:00    941            1332\n",
       "6737                9 2017-08-19 14:00:00    983            1332\n",
       "6738                9 2017-08-19 15:00:00    976            1332\n",
       "6739                9 2017-08-19 16:00:00    879            1332\n",
       "\n",
       "[6740 rows x 4 columns]"
      ]
     },
     "execution_count": 1,
     "metadata": {},
     "output_type": "execute_result"
    }
   ],
   "source": [
    "import pandas as pd\n",
    "import numpy as np\n",
    "\n",
    "# Load the dataset\n",
    "df = pd.read_csv('municipality_bus_utilization.csv')\n",
    "\n",
    "# Convert timestamp to datetime\n",
    "df['timestamp'] = pd.to_datetime(df['timestamp'])\n",
    "\n",
    "# Aggregate the data by hour\n",
    "df_hourly = df.groupby(['municipality_id', pd.Grouper(key='timestamp', freq='H')]).max().reset_index()\n",
    "df_hourly"
   ]
  },
  {
   "cell_type": "markdown",
   "id": "a2c5384c",
   "metadata": {},
   "source": [
    "Next, I'll split the data into training and test sets, where the last two weeks (i.e., the last 336 hours) will be used as the test set:"
   ]
  },
  {
   "cell_type": "code",
   "execution_count": 2,
   "id": "ad297e08",
   "metadata": {},
   "outputs": [],
   "source": [
    "# Create training and test sets\n",
    "train_end = pd.to_datetime('2017-08-05')\n",
    "test_start = pd.to_datetime('2017-08-06')\n",
    "test_end = pd.to_datetime('2017-08-19')\n",
    "train = df_hourly[df_hourly['timestamp'] < train_end].copy()\n",
    "test = df_hourly[(df_hourly['timestamp'] >= test_start) & (df_hourly['timestamp'] <= test_end)].copy()"
   ]
  },
  {
   "cell_type": "markdown",
   "id": "5b348c6a",
   "metadata": {},
   "source": [
    "#### TRAIN DATA"
   ]
  },
  {
   "cell_type": "code",
   "execution_count": 3,
   "id": "c35d947a",
   "metadata": {},
   "outputs": [
    {
     "data": {
      "text/html": [
       "<div>\n",
       "<style scoped>\n",
       "    .dataframe tbody tr th:only-of-type {\n",
       "        vertical-align: middle;\n",
       "    }\n",
       "\n",
       "    .dataframe tbody tr th {\n",
       "        vertical-align: top;\n",
       "    }\n",
       "\n",
       "    .dataframe thead th {\n",
       "        text-align: right;\n",
       "    }\n",
       "</style>\n",
       "<table border=\"1\" class=\"dataframe\">\n",
       "  <thead>\n",
       "    <tr style=\"text-align: right;\">\n",
       "      <th></th>\n",
       "      <th>municipality_id</th>\n",
       "      <th>timestamp</th>\n",
       "      <th>usage</th>\n",
       "      <th>total_capacity</th>\n",
       "    </tr>\n",
       "  </thead>\n",
       "  <tbody>\n",
       "    <tr>\n",
       "      <th>0</th>\n",
       "      <td>0</td>\n",
       "      <td>2017-06-04 07:00:00</td>\n",
       "      <td>204</td>\n",
       "      <td>2813</td>\n",
       "    </tr>\n",
       "    <tr>\n",
       "      <th>1</th>\n",
       "      <td>0</td>\n",
       "      <td>2017-06-04 08:00:00</td>\n",
       "      <td>332</td>\n",
       "      <td>2813</td>\n",
       "    </tr>\n",
       "    <tr>\n",
       "      <th>2</th>\n",
       "      <td>0</td>\n",
       "      <td>2017-06-04 09:00:00</td>\n",
       "      <td>485</td>\n",
       "      <td>2813</td>\n",
       "    </tr>\n",
       "    <tr>\n",
       "      <th>3</th>\n",
       "      <td>0</td>\n",
       "      <td>2017-06-04 10:00:00</td>\n",
       "      <td>583</td>\n",
       "      <td>2813</td>\n",
       "    </tr>\n",
       "    <tr>\n",
       "      <th>4</th>\n",
       "      <td>0</td>\n",
       "      <td>2017-06-04 11:00:00</td>\n",
       "      <td>614</td>\n",
       "      <td>2813</td>\n",
       "    </tr>\n",
       "  </tbody>\n",
       "</table>\n",
       "</div>"
      ],
      "text/plain": [
       "   municipality_id           timestamp  usage  total_capacity\n",
       "0                0 2017-06-04 07:00:00    204            2813\n",
       "1                0 2017-06-04 08:00:00    332            2813\n",
       "2                0 2017-06-04 09:00:00    485            2813\n",
       "3                0 2017-06-04 10:00:00    583            2813\n",
       "4                0 2017-06-04 11:00:00    614            2813"
      ]
     },
     "execution_count": 3,
     "metadata": {},
     "output_type": "execute_result"
    }
   ],
   "source": [
    "train.head()"
   ]
  },
  {
   "cell_type": "markdown",
   "id": "2533a88e",
   "metadata": {},
   "source": [
    "#### TEST DATA"
   ]
  },
  {
   "cell_type": "code",
   "execution_count": 4,
   "id": "b407f486",
   "metadata": {},
   "outputs": [
    {
     "data": {
      "text/html": [
       "<div>\n",
       "<style scoped>\n",
       "    .dataframe tbody tr th:only-of-type {\n",
       "        vertical-align: middle;\n",
       "    }\n",
       "\n",
       "    .dataframe tbody tr th {\n",
       "        vertical-align: top;\n",
       "    }\n",
       "\n",
       "    .dataframe thead th {\n",
       "        text-align: right;\n",
       "    }\n",
       "</style>\n",
       "<table border=\"1\" class=\"dataframe\">\n",
       "  <thead>\n",
       "    <tr style=\"text-align: right;\">\n",
       "      <th></th>\n",
       "      <th>municipality_id</th>\n",
       "      <th>timestamp</th>\n",
       "      <th>usage</th>\n",
       "      <th>total_capacity</th>\n",
       "    </tr>\n",
       "  </thead>\n",
       "  <tbody>\n",
       "    <tr>\n",
       "      <th>541</th>\n",
       "      <td>0</td>\n",
       "      <td>2017-08-06 07:00:00</td>\n",
       "      <td>280</td>\n",
       "      <td>2813</td>\n",
       "    </tr>\n",
       "    <tr>\n",
       "      <th>542</th>\n",
       "      <td>0</td>\n",
       "      <td>2017-08-06 08:00:00</td>\n",
       "      <td>391</td>\n",
       "      <td>2813</td>\n",
       "    </tr>\n",
       "    <tr>\n",
       "      <th>543</th>\n",
       "      <td>0</td>\n",
       "      <td>2017-08-06 09:00:00</td>\n",
       "      <td>459</td>\n",
       "      <td>2813</td>\n",
       "    </tr>\n",
       "    <tr>\n",
       "      <th>544</th>\n",
       "      <td>0</td>\n",
       "      <td>2017-08-06 10:00:00</td>\n",
       "      <td>569</td>\n",
       "      <td>2813</td>\n",
       "    </tr>\n",
       "    <tr>\n",
       "      <th>545</th>\n",
       "      <td>0</td>\n",
       "      <td>2017-08-06 11:00:00</td>\n",
       "      <td>653</td>\n",
       "      <td>2813</td>\n",
       "    </tr>\n",
       "  </tbody>\n",
       "</table>\n",
       "</div>"
      ],
      "text/plain": [
       "     municipality_id           timestamp  usage  total_capacity\n",
       "541                0 2017-08-06 07:00:00    280            2813\n",
       "542                0 2017-08-06 08:00:00    391            2813\n",
       "543                0 2017-08-06 09:00:00    459            2813\n",
       "544                0 2017-08-06 10:00:00    569            2813\n",
       "545                0 2017-08-06 11:00:00    653            2813"
      ]
     },
     "execution_count": 4,
     "metadata": {},
     "output_type": "execute_result"
    }
   ],
   "source": [
    "test.head()"
   ]
  },
  {
   "cell_type": "markdown",
   "id": "f617d9cf",
   "metadata": {},
   "source": [
    "If there is a missing data then"
   ]
  },
  {
   "cell_type": "code",
   "execution_count": 5,
   "id": "28cb8a75",
   "metadata": {},
   "outputs": [],
   "source": [
    "# Fill missing data with the last valid observation\n",
    "train = train.fillna(method='ffill')\n",
    "test = test.fillna(method='ffill')"
   ]
  },
  {
   "cell_type": "markdown",
   "id": "cf60b0a4",
   "metadata": {},
   "source": [
    "Now, I can make our forecast using the simple baseline method, which is to simply use the previous week's usage as the forecast for the next week:"
   ]
  },
  {
   "cell_type": "code",
   "execution_count": 6,
   "id": "5b843401",
   "metadata": {},
   "outputs": [
    {
     "data": {
      "text/html": [
       "<div>\n",
       "<style scoped>\n",
       "    .dataframe tbody tr th:only-of-type {\n",
       "        vertical-align: middle;\n",
       "    }\n",
       "\n",
       "    .dataframe tbody tr th {\n",
       "        vertical-align: top;\n",
       "    }\n",
       "\n",
       "    .dataframe thead th {\n",
       "        text-align: right;\n",
       "    }\n",
       "</style>\n",
       "<table border=\"1\" class=\"dataframe\">\n",
       "  <thead>\n",
       "    <tr style=\"text-align: right;\">\n",
       "      <th></th>\n",
       "      <th>municipality_id</th>\n",
       "      <th>usage</th>\n",
       "    </tr>\n",
       "  </thead>\n",
       "  <tbody>\n",
       "    <tr>\n",
       "      <th>0</th>\n",
       "      <td>0</td>\n",
       "      <td>688</td>\n",
       "    </tr>\n",
       "    <tr>\n",
       "      <th>1</th>\n",
       "      <td>0</td>\n",
       "      <td>688</td>\n",
       "    </tr>\n",
       "    <tr>\n",
       "      <th>2</th>\n",
       "      <td>0</td>\n",
       "      <td>688</td>\n",
       "    </tr>\n",
       "    <tr>\n",
       "      <th>3</th>\n",
       "      <td>0</td>\n",
       "      <td>688</td>\n",
       "    </tr>\n",
       "    <tr>\n",
       "      <th>4</th>\n",
       "      <td>0</td>\n",
       "      <td>688</td>\n",
       "    </tr>\n",
       "    <tr>\n",
       "      <th>...</th>\n",
       "      <td>...</td>\n",
       "      <td>...</td>\n",
       "    </tr>\n",
       "    <tr>\n",
       "      <th>1235</th>\n",
       "      <td>9</td>\n",
       "      <td>946</td>\n",
       "    </tr>\n",
       "    <tr>\n",
       "      <th>1236</th>\n",
       "      <td>9</td>\n",
       "      <td>946</td>\n",
       "    </tr>\n",
       "    <tr>\n",
       "      <th>1237</th>\n",
       "      <td>9</td>\n",
       "      <td>946</td>\n",
       "    </tr>\n",
       "    <tr>\n",
       "      <th>1238</th>\n",
       "      <td>9</td>\n",
       "      <td>946</td>\n",
       "    </tr>\n",
       "    <tr>\n",
       "      <th>1239</th>\n",
       "      <td>9</td>\n",
       "      <td>946</td>\n",
       "    </tr>\n",
       "  </tbody>\n",
       "</table>\n",
       "<p>1240 rows × 2 columns</p>\n",
       "</div>"
      ],
      "text/plain": [
       "      municipality_id  usage\n",
       "0                   0    688\n",
       "1                   0    688\n",
       "2                   0    688\n",
       "3                   0    688\n",
       "4                   0    688\n",
       "...               ...    ...\n",
       "1235                9    946\n",
       "1236                9    946\n",
       "1237                9    946\n",
       "1238                9    946\n",
       "1239                9    946\n",
       "\n",
       "[1240 rows x 2 columns]"
      ]
     },
     "execution_count": 6,
     "metadata": {},
     "output_type": "execute_result"
    }
   ],
   "source": [
    "# Simple baseline: take the hourly maximum of the last week of training data as the prediction for the test data\n",
    "baseline_pred = train[train['timestamp'] >= pd.to_datetime('2017-07-29')].groupby('municipality_id')['usage'].max().reset_index()\n",
    "baseline_pred = pd.merge(test[['municipality_id']], baseline_pred, on='municipality_id', how='left')\n",
    "baseline_pred['usage'] = baseline_pred['usage'].fillna(0)\n",
    "baseline_pred"
   ]
  },
  {
   "cell_type": "markdown",
   "id": "8ca77222",
   "metadata": {},
   "source": [
    "Finally, I can calculate the error between the forecast and the true values for the test set:"
   ]
  },
  {
   "cell_type": "code",
   "execution_count": 7,
   "id": "88b3dca6",
   "metadata": {},
   "outputs": [
    {
     "name": "stdout",
     "output_type": "stream",
     "text": [
      "Simple baseline test error: 1775.37\n"
     ]
    }
   ],
   "source": [
    "# Calculate error for the last two weeks of test data\n",
    "test_last_week = test[test['timestamp'] >= test_end - pd.Timedelta(days=7)]\n",
    "test_error = np.sqrt(((test_last_week['usage'] - baseline_pred['usage']) ** 2).mean())\n",
    "\n",
    "print(\"Simple baseline test error: {:.2f}\".format(test_error))"
   ]
  },
  {
   "cell_type": "markdown",
   "id": "771ef1f1",
   "metadata": {},
   "source": [
    "This will display the root mean squared error (RMSE), which is a gauge of how well our forecast performs, between the forecast and the test set's true values."
   ]
  }
 ],
 "metadata": {
  "kernelspec": {
   "display_name": "Python 3 (ipykernel)",
   "language": "python",
   "name": "python3"
  },
  "language_info": {
   "codemirror_mode": {
    "name": "ipython",
    "version": 3
   },
   "file_extension": ".py",
   "mimetype": "text/x-python",
   "name": "python",
   "nbconvert_exporter": "python",
   "pygments_lexer": "ipython3",
   "version": "3.9.5"
  }
 },
 "nbformat": 4,
 "nbformat_minor": 5
}
